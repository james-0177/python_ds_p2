{
 "cells": [
  {
   "cell_type": "markdown",
   "id": "1c9f965d",
   "metadata": {},
   "source": [
    "# Jupyter Notebook - Project P2\n",
    "\n",
    "### Student Name:  James Pinkston"
   ]
  },
  {
   "cell_type": "markdown",
   "id": "7718458f",
   "metadata": {},
   "source": [
    "## 10. Create a new Jupyter Notebook (the name of the notebook should be your S number). Add a Markdown cell that contains your name. Add a Code cell and write Python that uses loops to draw the following pattern:\n",
    "\n",
    "```\n",
    "*      *\n",
    "**    **\n",
    "***  ***\n",
    "********\n",
    "```"
   ]
  },
  {
   "cell_type": "code",
   "execution_count": 1,
   "id": "257abaee",
   "metadata": {},
   "outputs": [
    {
     "name": "stdout",
     "output_type": "stream",
     "text": [
      "*      *\n",
      "**    **\n",
      "***  ***\n",
      "********\n"
     ]
    }
   ],
   "source": [
    "rows = 4\n",
    "for i in range(1, rows +1):\n",
    "    left = '*' * i\n",
    "    spaces = ' ' * (2 * (rows - i))\n",
    "    right = '*' * i\n",
    "    print(left + spaces + right)"
   ]
  },
  {
   "cell_type": "code",
   "execution_count": 1,
   "id": "0c66864e",
   "metadata": {},
   "outputs": [
    {
     "name": "stderr",
     "output_type": "stream",
     "text": [
      "[NbConvertApp] Converting notebook s577663.ipynb to html\n",
      "[NbConvertApp] Writing 272876 bytes to s577663.html\n"
     ]
    }
   ],
   "source": [
    "!jupyter nbconvert --to html s577663.ipynb"
   ]
  }
 ],
 "metadata": {
  "kernelspec": {
   "display_name": "Python (jp-venv)",
   "language": "python",
   "name": "jp-venv"
  },
  "language_info": {
   "codemirror_mode": {
    "name": "ipython",
    "version": 3
   },
   "file_extension": ".py",
   "mimetype": "text/x-python",
   "name": "python",
   "nbconvert_exporter": "python",
   "pygments_lexer": "ipython3",
   "version": "3.12.5"
  }
 },
 "nbformat": 4,
 "nbformat_minor": 5
}
